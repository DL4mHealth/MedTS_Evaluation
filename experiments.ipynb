{
 "cells": [
  {
   "cell_type": "markdown",
   "source": [
    "## Subject-Dependent Setup"
   ],
   "metadata": {
    "collapsed": false
   }
  },
  {
   "cell_type": "markdown",
   "source": [
    "#### Medformer"
   ],
   "metadata": {
    "collapsed": false
   }
  },
  {
   "cell_type": "code",
   "source": [
    "# TDBRAIN Dataset\n",
    "!python -u run.py --task_name classification --is_training 1 --root_path ./dataset/TDBRAIN/ --model_id TDBRAIN-Dep --model Medformer --data Dependent --e_layers 6 --batch_size 128 --d_model 128 --d_ff 256 --des 'Exp' --itr 5 --learning_rate 0.0001 --train_epochs 100 --patience 10\n",
    "\n",
    "# ADFTD Dataset\n",
    "!python -u run.py --task_name classification --is_training 1 --root_path ./dataset/ADFTD/ --model_id ADFTD-Dep --model Medformer --data Dependent --e_layers 6 --batch_size 128 --d_model 128 --d_ff 256 --des 'Exp' --itr 5 --learning_rate 0.0001 --train_epochs 100 --patience 10\n",
    "\n",
    "# PTB Dataset\n",
    "!python -u run.py --task_name classification --is_training 1 --root_path ./dataset/PTB/ --model_id PTB-Dep --model Medformer --data Dependent --e_layers 6 --batch_size 128 --d_model 128 --d_ff 256 --des 'Exp' --itr 5 --learning_rate 0.0001 --train_epochs 100 --patience 10\n",
    "\n",
    "# PTB-XL Dataset\n",
    "!python -u run.py --task_name classification --is_training 1 --root_path ./dataset/PTB-XL/ --model_id PTB-XL-Dep --model Medformer --data Dependent --e_layers 6 --batch_size 128 --d_model 128 --d_ff 256 --des 'Exp' --itr 5 --learning_rate 0.0001 --train_epochs 100 --patience 10"
   ],
   "metadata": {
    "collapsed": false,
    "jupyter": {
     "is_executing": true
    },
    "ExecuteTime": {
     "start_time": "2024-10-10T01:11:11.694432Z"
    }
   },
   "outputs": [
    {
     "name": "stdout",
     "output_type": "stream",
     "text": [
      "^C\n"
     ]
    }
   ],
   "execution_count": null
  },
  {
   "cell_type": "markdown",
   "source": [
    "#### Transformer"
   ],
   "metadata": {
    "collapsed": false
   }
  },
  {
   "cell_type": "code",
   "source": [
    "# TDBRAIN Dataset\n",
    "!python -u run.py --task_name classification --is_training 1 --root_path ./dataset/TDBRAIN/ --model_id TDBRAIN-Dep --model Transformer --data Dependent --e_layers 6 --batch_size 128 --d_model 128 --d_ff 256 --des 'Exp' --itr 5 --learning_rate 0.0001 --train_epochs 100 --patience 10\n",
    "\n",
    "# ADFTD Dataset\n",
    "!python -u run.py --task_name classification --is_training 1 --root_path ./dataset/ADFTD/ --model_id ADFTD-Dep --model Transformer --data Dependent --e_layers 6 --batch_size 128 --d_model 128 --d_ff 256 --des 'Exp' --itr 5 --learning_rate 0.0001 --train_epochs 100 --patience 10\n",
    "\n",
    "# PTB Dataset\n",
    "!python -u run.py --task_name classification --is_training 1 --root_path ./dataset/PTB/ --model_id PTB-Dep --model Transformer --data Dependent --e_layers 6 --batch_size 128 --d_model 128 --d_ff 256 --des 'Exp' --itr 5 --learning_rate 0.0001 --train_epochs 100 --patience 10\n",
    "\n",
    "# PTB-XL Dataset\n",
    "!python -u run.py --task_name classification --is_training 1 --root_path ./dataset/PTB-XL/ --model_id PTB-XL-Dep --model Transformer --data Dependent --e_layers 6 --batch_size 128 --d_model 128 --d_ff 256 --des 'Exp' --itr 5 --learning_rate 0.0001 --train_epochs 100 --patience 10"
   ],
   "metadata": {
    "collapsed": false,
    "jupyter": {
     "is_executing": true
    }
   },
   "outputs": [],
   "execution_count": null
  },
  {
   "cell_type": "markdown",
   "source": [
    "#### TCN"
   ],
   "metadata": {
    "collapsed": false
   }
  },
  {
   "cell_type": "code",
   "source": [
    "# TDBRAIN Dataset\n",
    "!python -u run.py --task_name classification --is_training 1 --root_path ./dataset/TDBRAIN/ --model_id TDBRAIN-Dep --model TCN --data Dependent --e_layers 6 --batch_size 128 --d_model 128 --d_ff 256 --des 'Exp' --itr 5 --learning_rate 0.0001 --train_epochs 100 --patience 10\n",
    "\n",
    "# ADFTD Dataset\n",
    "!python -u run.py --task_name classification --is_training 1 --root_path ./dataset/ADFTD/ --model_id ADFTD-Dep --model TCN --data Dependent --e_layers 6 --batch_size 128 --d_model 128 --d_ff 256 --des 'Exp' --itr 5 --learning_rate 0.0001 --train_epochs 100 --patience 10\n",
    "\n",
    "# PTB Dataset\n",
    "!python -u run.py --task_name classification --is_training 1 --root_path ./dataset/PTB/ --model_id PTB-Dep --model TCN --data Dependent --e_layers 6 --batch_size 128 --d_model 128 --d_ff 256 --des 'Exp' --itr 5 --learning_rate 0.0001 --train_epochs 100 --patience 10\n",
    "\n",
    "# PTB-XL Dataset\n",
    "!python -u run.py --task_name classification --is_training 1 --root_path ./dataset/PTB-XL/ --model_id PTB-XL-Dep --model TCN --data Dependent --e_layers 6 --batch_size 128 --d_model 128 --d_ff 256 --des 'Exp' --itr 5 --learning_rate 0.0001 --train_epochs 100 --patience 10"
   ],
   "metadata": {
    "collapsed": false,
    "jupyter": {
     "is_executing": true
    }
   },
   "outputs": [],
   "execution_count": null
  },
  {
   "cell_type": "markdown",
   "source": [
    "#### MLP"
   ],
   "metadata": {
    "collapsed": false
   }
  },
  {
   "cell_type": "code",
   "source": [
    "# TDBRAIN Dataset\n",
    "!python -u run.py --task_name classification --is_training 1 --root_path ./dataset/TDBRAIN/ --model_id TDBRAIN-Dep --model MLP --data Dependent --e_layers 6 --batch_size 128 --d_model 128 --d_ff 256 --des 'Exp' --itr 5 --learning_rate 0.0001 --train_epochs 100 --patience 10\n",
    "\n",
    "# ADFTD Dataset\n",
    "!python -u run.py --task_name classification --is_training 1 --root_path ./dataset/ADFTD/ --model_id ADFTD-Dep --model MLP --data Dependent --e_layers 6 --batch_size 128 --d_model 128 --d_ff 256 --des 'Exp' --itr 5 --learning_rate 0.0001 --train_epochs 100 --patience 10\n",
    "\n",
    "# PTB Dataset\n",
    "!python -u run.py --task_name classification --is_training 1 --root_path ./dataset/PTB/ --model_id PTB-Dep --model MLP --data Dependent --e_layers 6 --batch_size 128 --d_model 128 --d_ff 256 --des 'Exp' --itr 5 --learning_rate 0.0001 --train_epochs 100 --patience 10\n",
    "\n",
    "# PTB-XL Dataset\n",
    "!python -u run.py --task_name classification --is_training 1 --root_path ./dataset/PTB-XL/ --model_id PTB-XL-Dep --model MLP --data Dependent --e_layers 6 --batch_size 128 --d_model 128 --d_ff 256 --des 'Exp' --itr 5 --learning_rate 0.0001 --train_epochs 100 --patience 10"
   ],
   "metadata": {
    "collapsed": false,
    "jupyter": {
     "is_executing": true
    }
   },
   "outputs": [],
   "execution_count": null
  },
  {
   "cell_type": "markdown",
   "source": [
    "## Subject-Independent Setup"
   ],
   "metadata": {
    "collapsed": false
   }
  },
  {
   "cell_type": "markdown",
   "source": [
    "#### Medformer"
   ],
   "metadata": {
    "collapsed": false
   }
  },
  {
   "cell_type": "code",
   "source": [
    "# TDBRAIN Dataset\n",
    "!python -u run.py --task_name classification --is_training 1 --root_path ./dataset/TDBRAIN/ --model_id TDBRAIN-Indep --model Medformer --data TDBRAIN-Indep --e_layers 6 --batch_size 128 --d_model 128 --d_ff 256 --des 'Exp' --itr 5 --learning_rate 0.0001 --train_epochs 100 --patience 10\n",
    "\n",
    "# ADFTD Dataset\n",
    "!python -u run.py --task_name classification --is_training 1 --root_path ./dataset/ADFTD/ --model_id ADFTD-Indep --model Medformer --data ADFTD-Indep --e_layers 6 --batch_size 128 --d_model 128 --d_ff 256 --des 'Exp' --itr 5 --learning_rate 0.0001 --train_epochs 100 --patience 10\n",
    "\n",
    "# PTB Dataset\n",
    "!python -u run.py --task_name classification --is_training 1 --root_path ./dataset/PTB/ --model_id PTB-Indep --model Medformer --data PTB-Indep --e_layers 6 --batch_size 128 --d_model 128 --d_ff 256 --des 'Exp' --itr 5 --learning_rate 0.0001 --train_epochs 100 --patience 10\n",
    "\n",
    "# PTB-XL Dataset\n",
    "!python -u run.py --task_name classification --is_training 1 --root_path ./dataset/PTB-XL/ --model_id PTB-XL-Indep --model Medformer --data PTB-XL-Indep --e_layers 6 --batch_size 128 --d_model 128 --d_ff 256 --des 'Exp' --itr 5 --learning_rate 0.0001 --train_epochs 100 --patience 10"
   ],
   "metadata": {
    "collapsed": false,
    "jupyter": {
     "is_executing": true
    }
   },
   "outputs": [],
   "execution_count": null
  },
  {
   "cell_type": "markdown",
   "source": [
    "#### Transformer"
   ],
   "metadata": {
    "collapsed": false
   }
  },
  {
   "cell_type": "code",
   "source": [
    "# TDBRAIN Dataset\n",
    "!python -u run.py --task_name classification --is_training 1 --root_path ./dataset/TDBRAIN/ --model_id TDBRAIN-Indep --model Transformer --data TDBRAIN-Indep --e_layers 6 --batch_size 128 --d_model 128 --d_ff 256 --des 'Exp' --itr 5 --learning_rate 0.0001 --train_epochs 100 --patience 10\n",
    "\n",
    "# ADFTD Dataset\n",
    "!python -u run.py --task_name classification --is_training 1 --root_path ./dataset/ADFTD/ --model_id ADFTD-Indep --model Transformer --data ADFTD-Indep --e_layers 6 --batch_size 128 --d_model 128 --d_ff 256 --des 'Exp' --itr 5 --learning_rate 0.0001 --train_epochs 100 --patience 10\n",
    "\n",
    "# PTB Dataset\n",
    "!python -u run.py --task_name classification --is_training 1 --root_path ./dataset/PTB/ --model_id PTB-Indep --model Transformer --data PTB-Indep --e_layers 6 --batch_size 128 --d_model 128 --d_ff 256 --des 'Exp' --itr 5 --learning_rate 0.0001 --train_epochs 100 --patience 10\n",
    "\n",
    "# PTB-XL Dataset\n",
    "!python -u run.py --task_name classification --is_training 1 --root_path ./dataset/PTB-XL/ --model_id PTB-XL-Indep --model Transformer --data PTB-XL-Indep --e_layers 6 --batch_size 128 --d_model 128 --d_ff 256 --des 'Exp' --itr 5 --learning_rate 0.0001 --train_epochs 100 --patience 10"
   ],
   "metadata": {
    "collapsed": false,
    "jupyter": {
     "is_executing": true
    }
   },
   "outputs": [],
   "execution_count": null
  },
  {
   "cell_type": "markdown",
   "source": [
    "#### TCN"
   ],
   "metadata": {
    "collapsed": false
   }
  },
  {
   "cell_type": "code",
   "source": [
    "# TDBRAIN Dataset\n",
    "!python -u run.py --task_name classification --is_training 1 --root_path ./dataset/TDBRAIN/ --model_id TDBRAIN-Indep --model TCN --data TDBRAIN-Indep --e_layers 6 --batch_size 128 --d_model 128 --d_ff 256 --des 'Exp' --itr 5 --learning_rate 0.0001 --train_epochs 100 --patience 10\n",
    "\n",
    "# ADFTD Dataset\n",
    "!python -u run.py --task_name classification --is_training 1 --root_path ./dataset/ADFTD/ --model_id ADFTD-Indep --model TCN --data ADFTD-Indep --e_layers 6 --batch_size 128 --d_model 128 --d_ff 256 --des 'Exp' --itr 5 --learning_rate 0.0001 --train_epochs 100 --patience 10\n",
    "\n",
    "# PTB Dataset\n",
    "!python -u run.py --task_name classification --is_training 1 --root_path ./dataset/PTB/ --model_id PTB-Indep --model TCN --data PTB-Indep --e_layers 6 --batch_size 128 --d_model 128 --d_ff 256 --des 'Exp' --itr 5 --learning_rate 0.0001 --train_epochs 100 --patience 10\n",
    "\n",
    "# PTB-XL Dataset\n",
    "!python -u run.py --task_name classification --is_training 1 --root_path ./dataset/PTB-XL/ --model_id PTB-XL-Indep --model TCN --data PTB-XL-Indep --e_layers 6 --batch_size 128 --d_model 128 --d_ff 256 --des 'Exp' --itr 5 --learning_rate 0.0001 --train_epochs 100 --patience 10"
   ],
   "metadata": {
    "collapsed": false,
    "jupyter": {
     "is_executing": true
    }
   },
   "outputs": [],
   "execution_count": null
  },
  {
   "cell_type": "markdown",
   "source": [
    "#### MLP"
   ],
   "metadata": {
    "collapsed": false
   }
  },
  {
   "cell_type": "code",
   "source": [
    "# TDBRAIN Dataset\n",
    "!python -u run.py --task_name classification --is_training 1 --root_path ./dataset/TDBRAIN/ --model_id TDBRAIN-Indep --model MLP --data TDBRAIN-Indep --e_layers 6 --batch_size 128 --d_model 128 --d_ff 256 --des 'Exp' --itr 5 --learning_rate 0.0001 --train_epochs 100 --patience 10\n",
    "\n",
    "# ADFTD Dataset\n",
    "!python -u run.py --task_name classification --is_training 1 --root_path ./dataset/ADFTD/ --model_id ADFTD-Indep --model MLP --data ADFTD-Indep --e_layers 6 --batch_size 128 --d_model 128 --d_ff 256 --des 'Exp' --itr 5 --learning_rate 0.0001 --train_epochs 100 --patience 10\n",
    "\n",
    "# PTB Dataset\n",
    "!python -u run.py --task_name classification --is_training 1 --root_path ./dataset/PTB/ --model_id PTB-Indep --model MLP --data PTB-Indep --e_layers 6 --batch_size 128 --d_model 128 --d_ff 256 --des 'Exp' --itr 5 --learning_rate 0.0001 --train_epochs 100 --patience 10\n",
    "\n",
    "# PTB-XL Dataset\n",
    "!python -u run.py --task_name classification --is_training 1 --root_path ./dataset/PTB-XL/ --model_id PTB-XL-Indep --model MLP --data PTB-XL-Indep --e_layers 6 --batch_size 128 --d_model 128 --d_ff 256 --des 'Exp' --itr 5 --learning_rate 0.0001 --train_epochs 100 --patience 10"
   ],
   "metadata": {
    "collapsed": false,
    "jupyter": {
     "is_executing": true
    }
   },
   "outputs": [],
   "execution_count": null
  },
  {
   "cell_type": "markdown",
   "source": [
    "## Random Label Subject-Dependent Setup"
   ],
   "metadata": {
    "collapsed": false
   }
  },
  {
   "cell_type": "markdown",
   "source": [
    "#### Medformer"
   ],
   "metadata": {
    "collapsed": false
   }
  },
  {
   "cell_type": "code",
   "source": [
    "# TDBRAIN Dataset\n",
    "!python -u run.py --task_name classification --is_training 1 --root_path ./dataset/TDBRAIN/ --model_id TDBRAIN-RDep --model Medformer --data RDependent --e_layers 6 --batch_size 128 --d_model 128 --d_ff 256 --des 'Exp' --itr 5 --learning_rate 0.0001 --train_epochs 100 --patience 10\n",
    "\n",
    "# ADFTD Dataset\n",
    "!python -u run.py --task_name classification --is_training 1 --root_path ./dataset/ADFTD/ --model_id ADFTD-RDep --model Medformer --data RDependent --e_layers 6 --batch_size 128 --d_model 128 --d_ff 256 --des 'Exp' --itr 5 --learning_rate 0.0001 --train_epochs 100 --patience 10\n",
    "\n",
    "# PTB Dataset\n",
    "!python -u run.py --task_name classification --is_training 1 --root_path ./dataset/PTB/ --model_id PTB-RDep --model Medformer --data RDependent --e_layers 6 --batch_size 128 --d_model 128 --d_ff 256 --des 'Exp' --itr 5 --learning_rate 0.0001 --train_epochs 100 --patience 10\n",
    "\n",
    "# PTB-XL Dataset\n",
    "!python -u run.py --task_name classification --is_training 1 --root_path ./dataset/PTB-XL/ --model_id PTB-XL-RDep --model Medformer --data RDependent --e_layers 6 --batch_size 128 --d_model 128 --d_ff 256 --des 'Exp' --itr 5 --learning_rate 0.0001 --train_epochs 100 --patience 10"
   ],
   "metadata": {
    "collapsed": false,
    "jupyter": {
     "is_executing": true
    }
   },
   "outputs": [],
   "execution_count": null
  },
  {
   "cell_type": "markdown",
   "source": [
    "#### Transformer"
   ],
   "metadata": {
    "collapsed": false
   }
  },
  {
   "cell_type": "code",
   "source": [
    "# TDBRAIN Dataset\n",
    "!python -u run.py --task_name classification --is_training 1 --root_path ./dataset/TDBRAIN/ --model_id TDBRAIN-RDep --model Transformer --data RDependent --e_layers 6 --batch_size 128 --d_model 128 --d_ff 256 --des 'Exp' --itr 5 --learning_rate 0.0001 --train_epochs 100 --patience 10\n",
    "\n",
    "# ADFTD Dataset\n",
    "!python -u run.py --task_name classification --is_training 1 --root_path ./dataset/ADFTD/ --model_id ADFTD-RDep --model Transformer --data RDependent --e_layers 6 --batch_size 128 --d_model 128 --d_ff 256 --des 'Exp' --itr 5 --learning_rate 0.0001 --train_epochs 100 --patience 10\n",
    "\n",
    "# PTB Dataset\n",
    "!python -u run.py --task_name classification --is_training 1 --root_path ./dataset/PTB/ --model_id PTB-RDep --model Transformer --data RDependent --e_layers 6 --batch_size 128 --d_model 128 --d_ff 256 --des 'Exp' --itr 5 --learning_rate 0.0001 --train_epochs 100 --patience 10\n",
    "\n",
    "# PTB-XL Dataset\n",
    "!python -u run.py --task_name classification --is_training 1 --root_path ./dataset/PTB-XL/ --model_id PTB-XL-RDep --model Transformer --data RDependent --e_layers 6 --batch_size 128 --d_model 128 --d_ff 256 --des 'Exp' --itr 5 --learning_rate 0.0001 --train_epochs 100 --patience 10"
   ],
   "metadata": {
    "collapsed": false,
    "jupyter": {
     "is_executing": true
    }
   },
   "outputs": [],
   "execution_count": null
  },
  {
   "cell_type": "markdown",
   "source": [
    "#### TCN"
   ],
   "metadata": {
    "collapsed": false
   }
  },
  {
   "cell_type": "code",
   "source": [
    "# TDBRAIN Dataset\n",
    "!python -u run.py --task_name classification --is_training 1 --root_path ./dataset/TDBRAIN/ --model_id TDBRAIN-RDep --model TCN --data RDependent --e_layers 6 --batch_size 128 --d_model 128 --d_ff 256 --des 'Exp' --itr 5 --learning_rate 0.0001 --train_epochs 100 --patience 10\n",
    "\n",
    "# ADFTD Dataset\n",
    "!python -u run.py --task_name classification --is_training 1 --root_path ./dataset/ADFTD/ --model_id ADFTD-RDep --model TCN --data RDependent --e_layers 6 --batch_size 128 --d_model 128 --d_ff 256 --des 'Exp' --itr 5 --learning_rate 0.0001 --train_epochs 100 --patience 10\n",
    "\n",
    "# PTB Dataset\n",
    "!python -u run.py --task_name classification --is_training 1 --root_path ./dataset/PTB/ --model_id PTB-RDep --model TCN --data RDependent --e_layers 6 --batch_size 128 --d_model 128 --d_ff 256 --des 'Exp' --itr 5 --learning_rate 0.0001 --train_epochs 100 --patience 10\n",
    "\n",
    "# PTB-XL Dataset\n",
    "!python -u run.py --task_name classification --is_training 1 --root_path ./dataset/PTB-XL/ --model_id PTB-XL-RDep --model TCN --data RDependent --e_layers 6 --batch_size 128 --d_model 128 --d_ff 256 --des 'Exp' --itr 5 --learning_rate 0.0001 --train_epochs 100 --patience 10"
   ],
   "metadata": {
    "collapsed": false,
    "jupyter": {
     "is_executing": true
    }
   },
   "outputs": [],
   "execution_count": null
  },
  {
   "cell_type": "markdown",
   "source": [
    "#### MLP"
   ],
   "metadata": {
    "collapsed": false
   }
  },
  {
   "cell_type": "code",
   "source": [
    "# TDBRAIN Dataset\n",
    "!python -u run.py --task_name classification --is_training 1 --root_path ./dataset/TDBRAIN/ --model_id TDBRAIN-RDep --model MLP --data RDependent --e_layers 6 --batch_size 128 --d_model 128 --d_ff 256 --des 'Exp' --itr 5 --learning_rate 0.0001 --train_epochs 100 --patience 10\n",
    "\n",
    "# ADFTD Dataset\n",
    "!python -u run.py --task_name classification --is_training 1 --root_path ./dataset/ADFTD/ --model_id ADFTD-RDep --model MLP --data RDependent --e_layers 6 --batch_size 128 --d_model 128 --d_ff 256 --des 'Exp' --itr 5 --learning_rate 0.0001 --train_epochs 100 --patience 10\n",
    "\n",
    "# PTB Dataset\n",
    "!python -u run.py --task_name classification --is_training 1 --root_path ./dataset/PTB/ --model_id PTB-RDep --model MLP --data RDependent --e_layers 6 --batch_size 128 --d_model 128 --d_ff 256 --des 'Exp' --itr 5 --learning_rate 0.0001 --train_epochs 100 --patience 10\n",
    "\n",
    "# PTB-XL Dataset\n",
    "!python -u run.py --task_name classification --is_training 1 --root_path ./dataset/PTB-XL/ --model_id PTB-XL-RDep --model MLP --data RDependent --e_layers 6 --batch_size 128 --d_model 128 --d_ff 256 --des 'Exp' --itr 5 --learning_rate 0.0001 --train_epochs 100 --patience 10"
   ],
   "metadata": {
    "collapsed": false,
    "jupyter": {
     "is_executing": true
    }
   },
   "outputs": [],
   "execution_count": null
  },
  {
   "cell_type": "markdown",
   "source": [
    "## Random Label Subject-Independent Setup"
   ],
   "metadata": {
    "collapsed": false
   }
  },
  {
   "cell_type": "markdown",
   "source": [
    "#### Medformer"
   ],
   "metadata": {
    "collapsed": false
   }
  },
  {
   "cell_type": "code",
   "source": [
    "# TDBRAIN Dataset\n",
    "!python -u run.py --task_name classification --is_training 1 --root_path ./dataset/TDBRAIN/ --model_id TDBRAIN-RIndep --model Medformer --data TDBRAIN-RIndep --e_layers 6 --batch_size 128 --d_model 128 --d_ff 256 --des 'Exp' --itr 5 --learning_rate 0.0001 --train_epochs 100 --patience 10\n",
    "\n",
    "# ADFTD Dataset\n",
    "!python -u run.py --task_name classification --is_training 1 --root_path ./dataset/ADFTD/ --model_id ADFTD-RIndep --model Medformer --data ADFTD-RIndep --e_layers 6 --batch_size 128 --d_model 128 --d_ff 256 --des 'Exp' --itr 5 --learning_rate 0.0001 --train_epochs 100 --patience 10\n",
    "\n",
    "# PTB Dataset\n",
    "!python -u run.py --task_name classification --is_training 1 --root_path ./dataset/PTB/ --model_id PTB-RIndep --model Medformer --data PTB-RIndep --e_layers 6 --batch_size 128 --d_model 128 --d_ff 256 --des 'Exp' --itr 5 --learning_rate 0.0001 --train_epochs 100 --patience 10\n",
    "\n",
    "# PTB-XL Dataset\n",
    "!python -u run.py --task_name classification --is_training 1 --root_path ./dataset/PTB-XL/ --model_id PTB-XL-RIndep --model Medformer --data PTB-XL-RIndep --e_layers 6 --batch_size 128 --d_model 128 --d_ff 256 --des 'Exp' --itr 5 --learning_rate 0.0001 --train_epochs 100 --patience 10"
   ],
   "metadata": {
    "collapsed": false,
    "jupyter": {
     "is_executing": true
    }
   },
   "outputs": [],
   "execution_count": null
  },
  {
   "cell_type": "markdown",
   "source": [
    "#### Transformer"
   ],
   "metadata": {
    "collapsed": false
   }
  },
  {
   "cell_type": "code",
   "source": [
    "# TDBRAIN Dataset\n",
    "!python -u run.py --task_name classification --is_training 1 --root_path ./dataset/TDBRAIN/ --model_id TDBRAIN-RIndep --model Transformer --data TDBRAIN-RIndep --e_layers 6 --batch_size 128 --d_model 128 --d_ff 256 --des 'Exp' --itr 5 --learning_rate 0.0001 --train_epochs 100 --patience 10\n",
    "\n",
    "# ADFTD Dataset\n",
    "!python -u run.py --task_name classification --is_training 1 --root_path ./dataset/ADFTD/ --model_id ADFTD-RIndep --model Transformer --data ADFTD-RIndep --e_layers 6 --batch_size 128 --d_model 128 --d_ff 256 --des 'Exp' --itr 5 --learning_rate 0.0001 --train_epochs 100 --patience 10\n",
    "\n",
    "# PTB Dataset\n",
    "!python -u run.py --task_name classification --is_training 1 --root_path ./dataset/PTB/ --model_id PTB-RIndep --model Transformer --data PTB-RIndep --e_layers 6 --batch_size 128 --d_model 128 --d_ff 256 --des 'Exp' --itr 5 --learning_rate 0.0001 --train_epochs 100 --patience 10\n",
    "\n",
    "# PTB-XL Dataset\n",
    "!python -u run.py --task_name classification --is_training 1 --root_path ./dataset/PTB-XL/ --model_id PTB-XL-RIndep --model Transformer --data PTB-XL-RIndep --e_layers 6 --batch_size 128 --d_model 128 --d_ff 256 --des 'Exp' --itr 5 --learning_rate 0.0001 --train_epochs 100 --patience 10"
   ],
   "metadata": {
    "collapsed": false,
    "jupyter": {
     "is_executing": true
    }
   },
   "outputs": [],
   "execution_count": null
  },
  {
   "cell_type": "markdown",
   "source": [
    "#### TCN"
   ],
   "metadata": {
    "collapsed": false
   }
  },
  {
   "cell_type": "code",
   "source": [
    "# TDBRAIN Dataset\n",
    "!python -u run.py --task_name classification --is_training 1 --root_path ./dataset/TDBRAIN/ --model_id TDBRAIN-RIndep --model TCN --data TDBRAIN-RIndep --e_layers 6 --batch_size 128 --d_model 128 --d_ff 256 --des 'Exp' --itr 5 --learning_rate 0.0001 --train_epochs 100 --patience 10\n",
    "\n",
    "# ADFTD Dataset\n",
    "!python -u run.py --task_name classification --is_training 1 --root_path ./dataset/ADFTD/ --model_id ADFTD-RIndep --model TCN --data ADFTD-RIndep --e_layers 6 --batch_size 128 --d_model 128 --d_ff 256 --des 'Exp' --itr 5 --learning_rate 0.0001 --train_epochs 100 --patience 10\n",
    "\n",
    "# PTB Dataset\n",
    "!python -u run.py --task_name classification --is_training 1 --root_path ./dataset/PTB/ --model_id PTB-RIndep --model TCN --data PTB-RIndep --e_layers 6 --batch_size 128 --d_model 128 --d_ff 256 --des 'Exp' --itr 5 --learning_rate 0.0001 --train_epochs 100 --patience 10\n",
    "\n",
    "# PTB-XL Dataset\n",
    "!python -u run.py --task_name classification --is_training 1 --root_path ./dataset/PTB-XL/ --model_id PTB-XL-RIndep --model TCN --data PTB-XL-RIndep --e_layers 6 --batch_size 128 --d_model 128 --d_ff 256 --des 'Exp' --itr 5 --learning_rate 0.0001 --train_epochs 100 --patience 10"
   ],
   "metadata": {
    "collapsed": false,
    "jupyter": {
     "is_executing": true
    }
   },
   "outputs": [],
   "execution_count": null
  },
  {
   "cell_type": "markdown",
   "source": [
    "#### MLP"
   ],
   "metadata": {
    "collapsed": false
   }
  },
  {
   "cell_type": "code",
   "source": [
    "# TDBRAIN Dataset\n",
    "!python -u run.py --task_name classification --is_training 1 --root_path ./dataset/TDBRAIN/ --model_id TDBRAIN-RIndep --model MLP --data TDBRAIN-RIndep --e_layers 6 --batch_size 128 --d_model 128 --d_ff 256 --des 'Exp' --itr 5 --learning_rate 0.0001 --train_epochs 100 --patience 10\n",
    "\n",
    "# ADFTD Dataset\n",
    "!python -u run.py --task_name classification --is_training 1 --root_path ./dataset/ADFTD/ --model_id ADFTD-RIndep --model MLP --data ADFTD-RIndep --e_layers 6 --batch_size 128 --d_model 128 --d_ff 256 --des 'Exp' --itr 5 --learning_rate 0.0001 --train_epochs 100 --patience 10\n",
    "\n",
    "# PTB Dataset\n",
    "!python -u run.py --task_name classification --is_training 1 --root_path ./dataset/PTB/ --model_id PTB-RIndep --model MLP --data PTB-RIndep --e_layers 6 --batch_size 128 --d_model 128 --d_ff 256 --des 'Exp' --itr 5 --learning_rate 0.0001 --train_epochs 100 --patience 10\n",
    "\n",
    "# PTB-XL Dataset\n",
    "!python -u run.py --task_name classification --is_training 1 --root_path ./dataset/PTB-XL/ --model_id PTB-XL-RIndep --model MLP --data PTB-XL-RIndep --e_layers 6 --batch_size 128 --d_model 128 --d_ff 256 --des 'Exp' --itr 5 --learning_rate 0.0001 --train_epochs 100 --patience 10"
   ],
   "metadata": {
    "collapsed": false,
    "jupyter": {
     "is_executing": true
    }
   },
   "outputs": [],
   "execution_count": null
  },
  {
   "metadata": {},
   "cell_type": "markdown",
   "source": "## Subject-Discrimination Setup"
  },
  {
   "metadata": {},
   "cell_type": "markdown",
   "source": "#### Medformer"
  },
  {
   "metadata": {
    "jupyter": {
     "is_executing": true
    }
   },
   "cell_type": "code",
   "source": [
    "# TDBRAIN Dataset\n",
    "!python -u run.py --task_name classification --is_training 1 --root_path ./dataset/TDBRAIN/ --model_id TDBRAIN-Subject --model Medformer --data Subject --e_layers 6 --batch_size 128 --d_model 128 --d_ff 256 --des 'Exp' --itr 5 --learning_rate 0.0001 --train_epochs 100 --patience 10\n",
    "\n",
    "# ADFTD Dataset\n",
    "!python -u run.py --task_name classification --is_training 1 --root_path ./dataset/ADFTD/ --model_id ADFTD-Subject --model Medformer --data Subject --e_layers 6 --batch_size 128 --d_model 128 --d_ff 256 --des 'Exp' --itr 5 --learning_rate 0.0001 --train_epochs 100 --patience 10\n",
    "\n",
    "# PTB Dataset\n",
    "!python -u run.py --task_name classification --is_training 1 --root_path ./dataset/PTB/ --model_id PTB-Subject --model Medformer --data Subject --e_layers 6 --batch_size 128 --d_model 128 --d_ff 256 --des 'Exp' --itr 5 --learning_rate 0.0001 --train_epochs 100 --patience 10\n",
    "\n",
    "# PTB-XL Dataset\n",
    "!python -u run.py --task_name classification --is_training 1 --root_path ./dataset/PTB-XL/ --model_id PTB-XL-Subject --model Medformer --data Subject --e_layers 6 --batch_size 128 --d_model 128 --d_ff 256 --des 'Exp' --itr 5 --learning_rate 0.0001 --train_epochs 100 --patience 10"
   ],
   "outputs": [],
   "execution_count": null
  },
  {
   "metadata": {},
   "cell_type": "markdown",
   "source": "#### Transformer"
  },
  {
   "metadata": {
    "jupyter": {
     "is_executing": true
    }
   },
   "cell_type": "code",
   "source": [
    "# TDBRAIN Dataset\n",
    "!python -u run.py --task_name classification --is_training 1 --root_path ./dataset/TDBRAIN/ --model_id TDBRAIN-Subject --model Transformer --data Subject --e_layers 6 --batch_size 128 --d_model 128 --d_ff 256 --des 'Exp' --itr 5 --learning_rate 0.0001 --train_epochs 100 --patience 10\n",
    "\n",
    "# ADFTD Dataset\n",
    "!python -u run.py --task_name classification --is_training 1 --root_path ./dataset/ADFTD/ --model_id ADFTD-Subject --model Transformer --data Subject --e_layers 6 --batch_size 128 --d_model 128 --d_ff 256 --des 'Exp' --itr 5 --learning_rate 0.0001 --train_epochs 100 --patience 10\n",
    "\n",
    "# PTB Dataset\n",
    "!python -u run.py --task_name classification --is_training 1 --root_path ./dataset/PTB/ --model_id PTB-Subject --model Transformer --data Subject --e_layers 6 --batch_size 128 --d_model 128 --d_ff 256 --des 'Exp' --itr 5 --learning_rate 0.0001 --train_epochs 100 --patience 10\n",
    "\n",
    "# PTB-XL Dataset\n",
    "!python -u run.py --task_name classification --is_training 1 --root_path ./dataset/PTB-XL/ --model_id PTB-XL-Subject --model Transformer --data Subject --e_layers 6 --batch_size 128 --d_model 128 --d_ff 256 --des 'Exp' --itr 5 --learning_rate 0.0001 --train_epochs 100 --patience 10"
   ],
   "outputs": [],
   "execution_count": null
  },
  {
   "metadata": {},
   "cell_type": "markdown",
   "source": "#### TCN"
  },
  {
   "metadata": {
    "jupyter": {
     "is_executing": true
    }
   },
   "cell_type": "code",
   "source": [
    "# TDBRAIN Dataset\n",
    "!python -u run.py --task_name classification --is_training 1 --root_path ./dataset/TDBRAIN/ --model_id TDBRAIN-Subject --model TCN --data Subject --e_layers 6 --batch_size 128 --d_model 128 --d_ff 256 --des 'Exp' --itr 5 --learning_rate 0.0001 --train_epochs 100 --patience 10\n",
    "\n",
    "# ADFTD Dataset\n",
    "!python -u run.py --task_name classification --is_training 1 --root_path ./dataset/ADFTD/ --model_id ADFTD-Subject --model TCN --data Subject --e_layers 6 --batch_size 128 --d_model 128 --d_ff 256 --des 'Exp' --itr 5 --learning_rate 0.0001 --train_epochs 100 --patience 10\n",
    "\n",
    "# PTB Dataset\n",
    "!python -u run.py --task_name classification --is_training 1 --root_path ./dataset/PTB/ --model_id PTB-Subject --model TCN --data Subject --e_layers 6 --batch_size 128 --d_model 128 --d_ff 256 --des 'Exp' --itr 5 --learning_rate 0.0001 --train_epochs 100 --patience 10\n",
    "\n",
    "# PTB-XL Dataset\n",
    "!python -u run.py --task_name classification --is_training 1 --root_path ./dataset/PTB-XL/ --model_id PTB-XL-Subject --model TCN --data Subject --e_layers 6 --batch_size 128 --d_model 128 --d_ff 256 --des 'Exp' --itr 5 --learning_rate 0.0001 --train_epochs 100 --patience 10"
   ],
   "outputs": [],
   "execution_count": null
  },
  {
   "metadata": {},
   "cell_type": "markdown",
   "source": "#### MLP"
  },
  {
   "metadata": {
    "jupyter": {
     "is_executing": true
    }
   },
   "cell_type": "code",
   "source": [
    "# TDBRAIN Dataset\n",
    "!python -u run.py --task_name classification --is_training 1 --root_path ./dataset/TDBRAIN/ --model_id TDBRAIN-Subject --model MLP --data Subject --e_layers 6 --batch_size 128 --d_model 128 --d_ff 256 --des 'Exp' --itr 5 --learning_rate 0.0001 --train_epochs 100 --patience 10\n",
    "\n",
    "# ADFTD Dataset\n",
    "!python -u run.py --task_name classification --is_training 1 --root_path ./dataset/ADFTD/ --model_id ADFTD-Subject --model MLP --data Subject --e_layers 6 --batch_size 128 --d_model 128 --d_ff 256 --des 'Exp' --itr 5 --learning_rate 0.0001 --train_epochs 100 --patience 10\n",
    "\n",
    "# PTB Dataset\n",
    "!python -u run.py --task_name classification --is_training 1 --root_path ./dataset/PTB/ --model_id PTB-Subject --model MLP --data Subject --e_layers 6 --batch_size 128 --d_model 128 --d_ff 256 --des 'Exp' --itr 5 --learning_rate 0.0001 --train_epochs 100 --patience 10\n",
    "\n",
    "# PTB-XL Dataset\n",
    "!python -u run.py --task_name classification --is_training 1 --root_path ./dataset/PTB-XL/ --model_id PTB-XL-Subject --model MLP --data Subject --e_layers 6 --batch_size 128 --d_model 128 --d_ff 256 --des 'Exp' --itr 5 --learning_rate 0.0001 --train_epochs 100 --patience 10"
   ],
   "outputs": [],
   "execution_count": null
  },
  {
   "metadata": {
    "jupyter": {
     "is_executing": true
    }
   },
   "cell_type": "code",
   "source": "",
   "outputs": [],
   "execution_count": null
  }
 ],
 "metadata": {
  "kernelspec": {
   "display_name": "Python 3",
   "language": "python",
   "name": "python3"
  },
  "language_info": {
   "codemirror_mode": {
    "name": "ipython",
    "version": 2
   },
   "file_extension": ".py",
   "mimetype": "text/x-python",
   "name": "python",
   "nbconvert_exporter": "python",
   "pygments_lexer": "ipython2",
   "version": "2.7.6"
  }
 },
 "nbformat": 4,
 "nbformat_minor": 0
}
